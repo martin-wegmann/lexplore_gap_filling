{
 "cells": [
  {
   "cell_type": "code",
   "execution_count": null,
   "id": "71972772",
   "metadata": {},
   "outputs": [],
   "source": [
    "import numpy as np\n",
    "import pandas as pd\n",
    "import xarray as xr\n",
    "import yaml\n"
   ]
  },
  {
   "cell_type": "markdown",
   "id": "fcaa8021",
   "metadata": {},
   "source": [
    " # set up folder structure"
   ]
  },
  {
   "cell_type": "code",
   "execution_count": null,
   "id": "a3afba05",
   "metadata": {},
   "outputs": [],
   "source": [
    "# change yaml location here\n",
    "with open(r\"/home/mwegmann/g2s/notebooks/folder_gap_filling.yaml\", \"r\") as f:\n",
    "    directories = yaml.load(f, Loader=yaml.FullLoader)"
   ]
  },
  {
   "cell_type": "code",
   "execution_count": null,
   "id": "a48c50b8",
   "metadata": {},
   "outputs": [],
   "source": [
    "# defining folders\n",
    "input_folder=directories[\"g2s_input_folder\"]\n",
    "\n",
    "output_folder=directories[\"g2s_output_folder\"]"
   ]
  },
  {
   "cell_type": "markdown",
   "id": "4b59e8a6",
   "metadata": {},
   "source": [
    " # load cosmo files"
   ]
  },
  {
   "cell_type": "code",
   "execution_count": null,
   "id": "e3b194d0",
   "metadata": {},
   "outputs": [],
   "source": [
    "cosmo=xr.open_mfdataset(input_folder+\"cosmo2_epfl_lakes_*.nc\")"
   ]
  },
  {
   "cell_type": "markdown",
   "id": "2195a2b5",
   "metadata": {},
   "source": [
    "# define variables of interest"
   ]
  },
  {
   "cell_type": "code",
   "execution_count": null,
   "id": "c6ca1125",
   "metadata": {},
   "outputs": [],
   "source": [
    "variables_of_interest=[\"T_2M\",\"RELHUM_2M\",\"TOT_PREC\",\"PS\",\"GLOB\",\"CLCT\",\"U\",\"V\"]"
   ]
  },
  {
   "cell_type": "code",
   "execution_count": null,
   "id": "69535a68",
   "metadata": {},
   "outputs": [],
   "source": [
    "# lat lon location of the platform\n",
    "# 46.50027102909318, 6.660955285962016"
   ]
  },
  {
   "cell_type": "markdown",
   "id": "a31597f4",
   "metadata": {},
   "source": [
    "# extract relevant data space"
   ]
  },
  {
   "cell_type": "code",
   "execution_count": null,
   "id": "bdcc7b01",
   "metadata": {},
   "outputs": [],
   "source": [
    "# x_1 -2.29 is the respective gridbox for lon_platform\n",
    "# y_1 -0.45 is the respective gridbox for lat_platform\n",
    "# z_3 is 10 meters for the wind \n",
    "cosmo_lexplore_gapfilling=cosmo[variables_of_interest].sel(x_1=-2.29,y_1=-0.45,z_3=10,time=slice(\"2020-06-01\",\"2023-05-31\"))"
   ]
  },
  {
   "cell_type": "markdown",
   "id": "2fcdb7a4",
   "metadata": {},
   "source": [
    "# write data"
   ]
  },
  {
   "cell_type": "code",
   "execution_count": null,
   "id": "4126faec",
   "metadata": {},
   "outputs": [],
   "source": [
    "cosmo_lexplore_gapfilling.to_netcdf(output_folder+\"cosmo_lexplore_gapfilling.nc\")"
   ]
  },
  {
   "cell_type": "code",
   "execution_count": null,
   "id": "26b5c494",
   "metadata": {},
   "outputs": [],
   "source": []
  }
 ],
 "metadata": {
  "kernelspec": {
   "display_name": "g2s",
   "language": "python",
   "name": "g2s"
  },
  "language_info": {
   "codemirror_mode": {
    "name": "ipython",
    "version": 3
   },
   "file_extension": ".py",
   "mimetype": "text/x-python",
   "name": "python",
   "nbconvert_exporter": "python",
   "pygments_lexer": "ipython3",
   "version": "3.11.3"
  }
 },
 "nbformat": 4,
 "nbformat_minor": 5
}

{
 "cells": [
  {
   "cell_type": "code",
   "execution_count": null,
   "id": "083ba5bb",
   "metadata": {},
   "outputs": [],
   "source": [
    "import numpy as np\n",
    "import pandas as pd\n",
    "import xarray as xr\n",
    "import netCDF4\n",
    "import os\n",
    "import math\n",
    "import datetime\n",
    "import matplotlib.pyplot as plt \n",
    "import scipy.stats as sstats\n",
    "from scipy.stats.sampling import DiscreteAliasUrn\n",
    "from matplotlib import cm\n",
    "import random\n",
    "%matplotlib inline\n",
    "from sklearn.preprocessing import StandardScaler\n",
    "import numpy\n",
    "%matplotlib inline \n",
    "from matplotlib import pyplot as plt\n",
    "from PIL import Image\n",
    "import requests\n",
    "from io import BytesIO\n",
    "import IPython.display\n",
    "import json\n",
    "import sys\n",
    "import yaml\n",
    "from random import randrange\n",
    "from functions_gapfill import *\n"
   ]
  },
  {
   "cell_type": "code",
   "execution_count": null,
   "id": "575632df",
   "metadata": {},
   "outputs": [],
   "source": [
    "# we want to introdce 10% missing data at locations X and \n",
    "# 24, 48,72,96"
   ]
  },
  {
   "cell_type": "markdown",
   "id": "64b2133e",
   "metadata": {},
   "source": [
    "# Gapfilling the AWS of the LéXPLORE platform"
   ]
  },
  {
   "cell_type": "markdown",
   "id": "c960f8f9",
   "metadata": {},
   "source": [
    "In this notebook we use the G2S server with Direct Sampling approach (https://gaia-unil.github.io/G2S/briefOverview.html) to fill the data gaps of the meteo station or AWS of the LéXPLORE platform (https://gitlab.renkulab.io/lexplore).\n",
    "\n",
    "See other notebooks in this repository on how to arrive at this point. \n",
    "\n",
    "We use already 1 hourly aggregated values of the meteo station and we fill gaps for the following variables on 1 hour resolution:\n",
    "\n",
    "* Air temperature\n",
    "\n",
    "* Baromatric pressure \n",
    "\n",
    "* Relative Humidity\n",
    "\n",
    "* Wind Speed\n",
    "\n",
    "* Wind Direction\n",
    "\n",
    "* Wind Gusts\n",
    "\n",
    "* Precipitation\n",
    "\n",
    "* Solar Incoming Radiation \n",
    "\n",
    "* Solar Total Incoming Radation (PROBABLY NOT)\n",
    "\n",
    "To do so, we use independent data as co-variates, namely variables from the closest gridpoint in ERA5 and ERA5-land. Other potential co-variates could be AWS data from other locations around Lake Geneva or data from other weather models or reconstructions. "
   ]
  },
  {
   "cell_type": "markdown",
   "id": "918505dc",
   "metadata": {},
   "source": [
    "## Activate G2S server"
   ]
  },
  {
   "cell_type": "code",
   "execution_count": null,
   "id": "8644c570",
   "metadata": {},
   "outputs": [],
   "source": [
    "#!pip install G2S libtiff --quiet\n",
    "from g2s import g2s\n",
    "g2s('--version')\n"
   ]
  },
  {
   "cell_type": "code",
   "execution_count": null,
   "id": "073ceb0f",
   "metadata": {},
   "outputs": [],
   "source": [
    "#! git clone https://github.com/GAIA-UNIL/G2S.git --quiet"
   ]
  },
  {
   "cell_type": "code",
   "execution_count": null,
   "id": "396ec744",
   "metadata": {},
   "outputs": [],
   "source": [
    "#%%capture\n",
    "#!export NVFLAGS='-gencode=arch=compute_35,code=sm_35 -gencode=arch=compute_37,code=sm_37 -gencode=arch=compute_50,code=sm_50 -gencode=arch=compute_52,code=sm_52 -gencode=arch=compute_60,code=sm_60 -gencode=arch=compute_61,code=sm_61 -gencode=arch=compute_70,code=sm_70 -gencode=arch=compute_70,code=compute_70'\n",
    "#!sudo apt -qq install build-essential libzmq3-dev libjsoncpp-dev zlib1g-dev libfftw3-dev libcurl4-openssl-dev -y\n",
    "#!sudo wget -q \"https://raw.githubusercontent.com/zeromq/cppzmq/master/zmq.hpp\" -O /usr/include/zmq.hpp\n",
    "#!( cd G2S/build && make c++ -j --silent)\n",
    "#!bash G2S/build/c++-build/install_needs_W_VM.sh"
   ]
  },
  {
   "cell_type": "code",
   "execution_count": null,
   "id": "a330f1c3",
   "metadata": {},
   "outputs": [],
   "source": [
    "!pwd"
   ]
  },
  {
   "cell_type": "code",
   "execution_count": null,
   "id": "6f7741c0",
   "metadata": {},
   "outputs": [],
   "source": [
    "os.chdir(\"/home/mwegmann/g2s\")"
   ]
  },
  {
   "cell_type": "code",
   "execution_count": null,
   "id": "f1adc8a2",
   "metadata": {},
   "outputs": [],
   "source": [
    "!bash -c \"cd G2S/build/c++-build/ && ./server -d\"\n"
   ]
  },
  {
   "cell_type": "code",
   "execution_count": null,
   "id": "ff5960b0",
   "metadata": {},
   "outputs": [],
   "source": [
    "ti = numpy.array(Image.open(BytesIO(requests.get('https://raw.githubusercontent.com/GAIA-UNIL/TrainingImagesTIFF/master/stone.tiff').content)));"
   ]
  },
  {
   "cell_type": "code",
   "execution_count": null,
   "id": "8472fa44",
   "metadata": {},
   "outputs": [],
   "source": [
    "a=g2s('-a','echo','-ti',ti,'-dt',[0])"
   ]
  },
  {
   "cell_type": "code",
   "execution_count": null,
   "id": "4cb6a720",
   "metadata": {},
   "outputs": [],
   "source": [
    "plt.imshow(a[0], interpolation='nearest')"
   ]
  },
  {
   "cell_type": "markdown",
   "id": "39f0930d",
   "metadata": {},
   "source": [
    "## folder setup"
   ]
  },
  {
   "cell_type": "code",
   "execution_count": null,
   "id": "3d5e29e4",
   "metadata": {},
   "outputs": [],
   "source": [
    "# change yaml location here\n",
    "with open(r\"/home/mwegmann/g2s/notebooks/folder_gap_filling.yaml\", \"r\") as f:\n",
    "    directories = yaml.load(f, Loader=yaml.FullLoader)"
   ]
  },
  {
   "cell_type": "code",
   "execution_count": null,
   "id": "d65606e4",
   "metadata": {},
   "outputs": [],
   "source": [
    "#for d in directories.values():\n",
    "#    if not os.path.exists(d):\n",
    "#        os.makedirs(d)"
   ]
  },
  {
   "cell_type": "code",
   "execution_count": null,
   "id": "fb2b6cd0",
   "metadata": {},
   "outputs": [],
   "source": [
    "# defining folders\n",
    "input_folder=directories[\"g2s_input_folder\"]\n",
    "\n",
    "output_folder=directories[\"g2s_output_folder\"]\n",
    "\n",
    "scripts_folder=directories[\"scripts_folder\"]"
   ]
  },
  {
   "cell_type": "markdown",
   "id": "f6436a02",
   "metadata": {},
   "source": [
    "## read in data"
   ]
  },
  {
   "cell_type": "code",
   "execution_count": null,
   "id": "839fe475",
   "metadata": {},
   "outputs": [],
   "source": [
    "meteo_orig=xr.open_dataset(input_folder+\"meteo_1hr_g2s.nc\")"
   ]
  },
  {
   "cell_type": "code",
   "execution_count": null,
   "id": "e37b92a3",
   "metadata": {},
   "outputs": [],
   "source": [
    "meteo_orig"
   ]
  },
  {
   "cell_type": "code",
   "execution_count": null,
   "id": "f4001c6d",
   "metadata": {},
   "outputs": [],
   "source": [
    "era5=xr.open_dataset(input_folder+\"era5_lexplore_g2s.nc\")"
   ]
  },
  {
   "cell_type": "code",
   "execution_count": null,
   "id": "e74807e2",
   "metadata": {},
   "outputs": [],
   "source": [
    "era5"
   ]
  },
  {
   "cell_type": "code",
   "execution_count": null,
   "id": "36cf2c58",
   "metadata": {},
   "outputs": [],
   "source": [
    "era5_land=xr.open_dataset(input_folder+\"era5_land_lexplore_g2s.nc\")"
   ]
  },
  {
   "cell_type": "code",
   "execution_count": null,
   "id": "38fe6317",
   "metadata": {},
   "outputs": [],
   "source": [
    "era5_land"
   ]
  },
  {
   "cell_type": "markdown",
   "id": "ddade0af",
   "metadata": {},
   "source": [
    "## Fill Air Temperature Data"
   ]
  },
  {
   "cell_type": "markdown",
   "id": "6aa72cd3",
   "metadata": {},
   "source": [
    "### understand the average gap size in data"
   ]
  },
  {
   "cell_type": "code",
   "execution_count": null,
   "id": "8122d37a",
   "metadata": {},
   "outputs": [],
   "source": [
    "varname=\"AirTC\"\n"
   ]
  },
  {
   "cell_type": "code",
   "execution_count": null,
   "id": "b0f20af4",
   "metadata": {
    "scrolled": true
   },
   "outputs": [],
   "source": [
    "gap_info(var=meteo_orig[varname],varname=\"meteo_orig_airtc\",plot_folder=output_folder)"
   ]
  },
  {
   "cell_type": "markdown",
   "id": "160a0a7b",
   "metadata": {},
   "source": [
    "### Run gapfilling"
   ]
  },
  {
   "cell_type": "markdown",
   "id": "4ed5aedd",
   "metadata": {},
   "source": [
    "The idea is to create gaps that are always at the same position, but different in size.\n"
   ]
  },
  {
   "cell_type": "markdown",
   "id": "dccdc5ca",
   "metadata": {},
   "source": [
    "It is tricky to think about a \"perfect gap size\" that we should try out. I would suggest that we try out gap sizes from 1 day (24 missing values in the case of the meteo station) towards 4 days (96 missing values in case of the meteo station).\n",
    "\n",
    "The other question is how many (in %) new missing values do we introduce to evaluate our routine. The meteo station has 3% missing data as it is. Is 10% a good metric to evaluate? 20%?"
   ]
  },
  {
   "cell_type": "markdown",
   "id": "8d622e94",
   "metadata": {},
   "source": [
    "We have three steps for the reconstruction of each variable:\n",
    "\n",
    "* Covariate evaluation with N=25, 5% missing data, and [24,48,72] gaps and 10 test runs\n",
    "\n",
    "* Creating error matrix for error propagation analysis with preferred covariate with N=25, [5,10,15,20] missing data, and [24,48,72,96] gaps and 5 test runs\n",
    "\n",
    "* Creating the final product/reconstruction with N=50"
   ]
  },
  {
   "cell_type": "markdown",
   "id": "3471a6b6",
   "metadata": {},
   "source": [
    "#### eval phase"
   ]
  },
  {
   "cell_type": "code",
   "execution_count": null,
   "id": "0402e1e7",
   "metadata": {},
   "outputs": [],
   "source": [
    "percent_list=[5]\n",
    "gap_amount_list=[24,48,72]\n",
    "selector_list=[1,2,3]\n",
    "#gap_amount_list=[150]\n",
    "N = 25\n",
    "test_runs=10\n",
    "\n",
    "\n",
    "columns_df=[\"NAME\",'RUN',\"MEMBER\",\"PERC\",\"GAP_SIZE\",\"CORR\",\"RMSE\",\"STDR\"]\n",
    "\n",
    "df = pd.DataFrame(columns=columns_df)"
   ]
  },
  {
   "cell_type": "code",
   "execution_count": null,
   "id": "11a32631",
   "metadata": {},
   "outputs": [],
   "source": [
    "print(datetime.datetime.now())"
   ]
  },
  {
   "cell_type": "code",
   "execution_count": null,
   "id": "ce058b75",
   "metadata": {},
   "outputs": [],
   "source": [
    "filled_data,error_df=univ_g2s(original=meteo_orig,var=varname,obs_in_day=24,N=N,percent_list=percent_list,gap_amount_list=gap_amount_list,selector_list=selector_list,test_runs=test_runs,df=df,csv_folder=output_folder,name=\"meteo_eval_\")"
   ]
  },
  {
   "cell_type": "code",
   "execution_count": null,
   "id": "df2dc663",
   "metadata": {},
   "outputs": [],
   "source": [
    "filled_data,error_df=day_of_year_g2s(original=meteo_orig,var=varname,obs_in_day=24,N=N,percent_list=percent_list,gap_amount_list=gap_amount_list,selector_list=selector_list,test_runs=test_runs,df=df,csv_folder=output_folder,name=\"meteo_eval_\")"
   ]
  },
  {
   "cell_type": "code",
   "execution_count": null,
   "id": "a94c14e7",
   "metadata": {},
   "outputs": [],
   "source": [
    "filled_data,error_df=time_of_day_of_year_g2s(original=meteo_orig,var=varname,obs_in_day=24,N=N,percent_list=percent_list,gap_amount_list=gap_amount_list,selector_list=selector_list,test_runs=test_runs,df=df,csv_folder=output_folder,name=\"meteo_eval_\")"
   ]
  },
  {
   "cell_type": "code",
   "execution_count": null,
   "id": "720ad947",
   "metadata": {},
   "outputs": [],
   "source": [
    "filled_data,error_df=one_cov_g2s(original=meteo_orig,var1=varname,cov=era5,var2=\"t2m\",cov_name=\"era5\",obs_in_day=24,N=N,percent_list=percent_list,gap_amount_list=gap_amount_list,selector_list=selector_list,test_runs=test_runs,df=df,csv_folder=output_folder,name=\"meteo_eval_\")"
   ]
  },
  {
   "cell_type": "code",
   "execution_count": null,
   "id": "9aa0f88d",
   "metadata": {},
   "outputs": [],
   "source": [
    "filled_data,error_df=one_cov_g2s(original=meteo_orig,var1=varname,cov=era5_land,var2=\"t2m\",cov_name=\"era5l\",obs_in_day=24,N=N,percent_list=percent_list,gap_amount_list=gap_amount_list,selector_list=selector_list,test_runs=test_runs,df=df,csv_folder=output_folder,name=\"meteo_eval_\")"
   ]
  },
  {
   "cell_type": "code",
   "execution_count": null,
   "id": "eb06f7a2",
   "metadata": {
    "scrolled": true
   },
   "outputs": [],
   "source": [
    "error_df"
   ]
  },
  {
   "cell_type": "code",
   "execution_count": null,
   "id": "a77f2981",
   "metadata": {},
   "outputs": [],
   "source": [
    "error_df=pd.read_csv(output_folder+\"meteo_eval_\"+varname+\".csv\")\n"
   ]
  },
  {
   "cell_type": "code",
   "execution_count": null,
   "id": "23eefcbf",
   "metadata": {},
   "outputs": [],
   "source": [
    "error_df[error_df.NAME ==\"era5l\"][error_df.columns[1:]].groupby('GAP_SIZE').mean()"
   ]
  },
  {
   "cell_type": "code",
   "execution_count": null,
   "id": "cfc86ee3",
   "metadata": {},
   "outputs": [],
   "source": [
    "error_df[error_df.NAME ==\"era5\"][error_df.columns[1:]].groupby('GAP_SIZE').mean()"
   ]
  },
  {
   "cell_type": "code",
   "execution_count": null,
   "id": "5002bdc6",
   "metadata": {},
   "outputs": [],
   "source": [
    "error_df[error_df.NAME ==\"UV\"][error_df.columns[1:]].groupby('GAP_SIZE').mean()"
   ]
  },
  {
   "cell_type": "code",
   "execution_count": null,
   "id": "012a126b",
   "metadata": {},
   "outputs": [],
   "source": [
    "error_df[error_df.NAME ==\"calday\"][error_df.columns[1:]].groupby('GAP_SIZE').mean()"
   ]
  },
  {
   "cell_type": "code",
   "execution_count": null,
   "id": "2dd865ea",
   "metadata": {},
   "outputs": [],
   "source": [
    "error_df[error_df.NAME ==\"caldaytimeday\"][error_df.columns[1:]].groupby('GAP_SIZE').mean()"
   ]
  },
  {
   "cell_type": "markdown",
   "id": "f36a294f",
   "metadata": {},
   "source": [
    "#### error matrix phase"
   ]
  },
  {
   "cell_type": "code",
   "execution_count": null,
   "id": "cc825f9b",
   "metadata": {},
   "outputs": [],
   "source": [
    "percent_list=[5,10,15,20]\n",
    "gap_amount_list=[24,48,72,96]\n",
    "selector_list=[1,2,3,4]\n",
    "#gap_amount_list=[150]\n",
    "N = 25\n",
    "test_runs=5\n",
    "\n",
    "\n",
    "columns_df=[\"NAME\",'RUN',\"MEMBER\",\"PERC\",\"GAP_SIZE\",\"CORR\",\"RMSE\",\"STDR\"]\n",
    "\n",
    "df = pd.DataFrame(columns=columns_df)"
   ]
  },
  {
   "cell_type": "code",
   "execution_count": null,
   "id": "83b5a444",
   "metadata": {},
   "outputs": [],
   "source": [
    "filled_data,error_df=one_cov_g2s(original=meteo_orig,var1=varname,cov=era5,var2=\"t2m\",cov_name=\"era5\",obs_in_day=24,N=N,percent_list=percent_list,gap_amount_list=gap_amount_list,selector_list=selector_list,test_runs=test_runs,df=df,csv_folder=output_folder,name=\"meteo_era5_\")"
   ]
  },
  {
   "cell_type": "code",
   "execution_count": null,
   "id": "b6ee0cd6",
   "metadata": {},
   "outputs": [],
   "source": [
    "error_df=pd.read_csv(output_folder+\"meteo_era5_\"+varname+\".csv\")\n"
   ]
  },
  {
   "cell_type": "code",
   "execution_count": null,
   "id": "827a63a9",
   "metadata": {},
   "outputs": [],
   "source": [
    "error_df[error_df.columns[1:]].groupby('PERC').mean()"
   ]
  },
  {
   "cell_type": "code",
   "execution_count": null,
   "id": "2778b88d",
   "metadata": {},
   "outputs": [],
   "source": [
    "error_df[error_df.columns[1:]].groupby('GAP_SIZE').mean()"
   ]
  },
  {
   "cell_type": "code",
   "execution_count": null,
   "id": "c11ee16d",
   "metadata": {},
   "outputs": [],
   "source": [
    "perc=error_df[\"PERC\"].values\n",
    "gap_size=error_df[\"GAP_SIZE\"].values\n",
    "rmse=error_df[\"RMSE\"].values"
   ]
  },
  {
   "cell_type": "code",
   "execution_count": null,
   "id": "8fce1fdd",
   "metadata": {},
   "outputs": [],
   "source": [
    "import seaborn as sns\n",
    "sns.relplot(data=error_df, x='PERC', y='GAP_SIZE', hue='RMSE')\n",
    "plt.show()"
   ]
  },
  {
   "cell_type": "code",
   "execution_count": null,
   "id": "7d683d55",
   "metadata": {},
   "outputs": [],
   "source": [
    "import seaborn as sns\n",
    "sns.relplot(data=error_df, x='PERC', y='GAP_SIZE', hue='CORR')\n",
    "plt.show()"
   ]
  },
  {
   "cell_type": "code",
   "execution_count": null,
   "id": "840831cc",
   "metadata": {},
   "outputs": [],
   "source": [
    "# importing mplot3d toolkits, numpy and matplotlib\n",
    "from mpl_toolkits import mplot3d\n",
    "import numpy as np\n",
    "import matplotlib.pyplot as plt\n",
    " \n",
    "fig = plt.figure()\n",
    " \n",
    "# syntax for 3-D projection\n",
    "ax = plt.axes(projection ='3d')\n",
    " \n",
    "# defining all 3 axis\n",
    "z = rmse\n",
    "x = gap_size\n",
    "y = perc\n",
    " \n",
    "# plotting\n",
    "ax.plot3D(x, y, z, '.b')\n",
    "ax.set_title('3D line plot geeks for geeks')\n",
    "plt.show()"
   ]
  },
  {
   "cell_type": "markdown",
   "id": "9a45c3b8",
   "metadata": {},
   "source": [
    "#### reconstruction phase"
   ]
  },
  {
   "cell_type": "code",
   "execution_count": null,
   "id": "b998ed8d",
   "metadata": {},
   "outputs": [],
   "source": [
    "N = 50"
   ]
  },
  {
   "cell_type": "code",
   "execution_count": null,
   "id": "1a834c2c",
   "metadata": {},
   "outputs": [],
   "source": [
    "#gap-filling with one covariate\n",
    "covar2 = era5[\"t2m\"].copy()\n",
    "#name_addedinfo=cov_name\n",
    "#covar2.loc[dict(time = covar2.time[gap_indices])] = np.nan\n",
    "gapped_data=meteo_orig[varname].copy()\n",
    "\n",
    "ti = np.stack([gapped_data.data,\n",
    "            covar2],axis = 1)\n",
    "di = np.stack([gapped_data.data,\n",
    "            covar2],axis = 1)\n",
    "dt = [0,0,] \n",
    "#ki = np.ones([L,5])\n",
    "#ki[:,:4] = 0.3 #Assign half weight to categorical variable \n",
    "\n",
    "\n",
    "stacked = ensemble_QS(N = N,\n",
    "                      ti=ti, \n",
    "                      di=di,\n",
    "                      dt=dt, #Zero for continuous variables\n",
    "                      k=1.2,\n",
    "                      n=50,\n",
    "                      j=0.5,\n",
    "                      ki=None)\n",
    "simulation = xr.DataArray(data =stacked[:,:,0],\n",
    "                            coords = {'realizations':np.arange(1,stacked.shape[0]+1),'time':gapped_data.time})"
   ]
  },
  {
   "cell_type": "code",
   "execution_count": null,
   "id": "373c20ef",
   "metadata": {},
   "outputs": [],
   "source": [
    "year = 2021\n",
    "start_month =3\n",
    "end_month = 5\n",
    "\n",
    "plot_MPS_ensembles(original = gapped_data,\n",
    "                   simulation = simulation, \n",
    "                   year = year,\n",
    "                   start_month = start_month,\n",
    "                   end_month = end_month,plot_folder=output_folder,\n",
    "                  alpha = 0.1,\n",
    "                  title = \"meteo_\"+varname+\"AirTC_era5_simulation\")"
   ]
  },
  {
   "cell_type": "code",
   "execution_count": null,
   "id": "40c91280",
   "metadata": {},
   "outputs": [],
   "source": [
    "save_name=\"meteo_\"+varname+\"_era5_50member_reconstruction.nc\"\n",
    "\n",
    "simulation.to_netcdf(output_folder+save_name)\n",
    "\n",
    "xr.open_dataset(output_folder+save_name)"
   ]
  },
  {
   "cell_type": "markdown",
   "id": "794f21e3",
   "metadata": {},
   "source": [
    "## Fill Air Pressure Data"
   ]
  },
  {
   "cell_type": "markdown",
   "id": "abab9f55",
   "metadata": {},
   "source": [
    "### understand the average gap size in data"
   ]
  },
  {
   "cell_type": "code",
   "execution_count": null,
   "id": "a52b365b",
   "metadata": {},
   "outputs": [],
   "source": [
    "varname=\"BP\"\n"
   ]
  },
  {
   "cell_type": "code",
   "execution_count": null,
   "id": "2ae3931e",
   "metadata": {
    "scrolled": true
   },
   "outputs": [],
   "source": [
    "gap_info(var=meteo_orig[varname],varname=\"meteo_orig_bp\",plot_folder=output_folder)"
   ]
  },
  {
   "cell_type": "markdown",
   "id": "9595f2a4",
   "metadata": {},
   "source": [
    "### Run gapfilling"
   ]
  },
  {
   "cell_type": "code",
   "execution_count": null,
   "id": "c83b47d8",
   "metadata": {},
   "outputs": [],
   "source": [
    "percent_list=[5]\n",
    "gap_amount_list=[24,48,72]\n",
    "selector_list=[1,2,3]\n",
    "#gap_amount_list=[150]\n",
    "N = 25\n",
    "test_runs=10\n",
    "\n",
    "\n",
    "columns_df=[\"NAME\",'RUN',\"MEMBER\",\"PERC\",\"GAP_SIZE\",\"CORR\",\"RMSE\",\"STDR\"]\n",
    "\n",
    "df = pd.DataFrame(columns=columns_df)"
   ]
  },
  {
   "cell_type": "code",
   "execution_count": null,
   "id": "073c3491",
   "metadata": {},
   "outputs": [],
   "source": [
    "print(datetime.datetime.now())"
   ]
  },
  {
   "cell_type": "code",
   "execution_count": null,
   "id": "37ae63a0",
   "metadata": {},
   "outputs": [],
   "source": [
    "filled_data,error_df=univ_g2s(original=meteo_orig,var=varname,obs_in_day=24,N=N,percent_list=percent_list,gap_amount_list=gap_amount_list,selector_list=selector_list,test_runs=test_runs,df=df,csv_folder=output_folder,name=\"meteo_eval_\")"
   ]
  },
  {
   "cell_type": "code",
   "execution_count": null,
   "id": "6b5e90d0",
   "metadata": {},
   "outputs": [],
   "source": [
    "filled_data,error_df=day_of_year_g2s(original=meteo_orig,var=varname,obs_in_day=24,N=N,percent_list=percent_list,gap_amount_list=gap_amount_list,selector_list=selector_list,test_runs=test_runs,df=df,csv_folder=output_folder,name=\"meteo_eval_\")"
   ]
  },
  {
   "cell_type": "code",
   "execution_count": null,
   "id": "411b033b",
   "metadata": {},
   "outputs": [],
   "source": [
    "filled_data,error_df=time_of_day_of_year_g2s(original=meteo_orig,var=varname,obs_in_day=24,N=N,percent_list=percent_list,gap_amount_list=gap_amount_list,selector_list=selector_list,test_runs=test_runs,df=df,csv_folder=output_folder,name=\"meteo_eval_\")"
   ]
  },
  {
   "cell_type": "code",
   "execution_count": null,
   "id": "f538ef8b",
   "metadata": {},
   "outputs": [],
   "source": [
    "filled_data,error_df=one_cov_g2s(original=meteo_orig,var1=varname,cov=era5,var2=\"sp\",cov_name=\"era5\",obs_in_day=24,N=N,percent_list=percent_list,gap_amount_list=gap_amount_list,selector_list=selector_list,test_runs=test_runs,df=df,csv_folder=output_folder,name=\"meteo_eval_\")"
   ]
  },
  {
   "cell_type": "code",
   "execution_count": null,
   "id": "5132e8ff",
   "metadata": {},
   "outputs": [],
   "source": [
    "filled_data,error_df=one_cov_g2s(original=meteo_orig,var1=varname,cov=era5_land,var2=\"sp\",cov_name=\"era5l\",obs_in_day=24,N=N,percent_list=percent_list,gap_amount_list=gap_amount_list,selector_list=selector_list,test_runs=test_runs,df=df,csv_folder=output_folder,name=\"meteo_eval_\")"
   ]
  },
  {
   "cell_type": "code",
   "execution_count": null,
   "id": "31d44172",
   "metadata": {
    "scrolled": true
   },
   "outputs": [],
   "source": [
    "error_df"
   ]
  },
  {
   "cell_type": "code",
   "execution_count": null,
   "id": "5f80f3d7",
   "metadata": {},
   "outputs": [],
   "source": [
    "error_df=pd.read_csv(output_folder+\"meteo_eval_\"+varname+\".csv\")\n"
   ]
  },
  {
   "cell_type": "code",
   "execution_count": null,
   "id": "b37d6e05",
   "metadata": {},
   "outputs": [],
   "source": [
    "error_df[error_df.NAME ==\"era5l\"][error_df.columns[1:]].groupby('GAP_SIZE').mean()"
   ]
  },
  {
   "cell_type": "code",
   "execution_count": null,
   "id": "68b21cf8",
   "metadata": {},
   "outputs": [],
   "source": [
    "error_df[error_df.NAME ==\"era5\"][error_df.columns[1:]].groupby('GAP_SIZE').mean()"
   ]
  },
  {
   "cell_type": "code",
   "execution_count": null,
   "id": "2ead18d2",
   "metadata": {},
   "outputs": [],
   "source": [
    "error_df[error_df.NAME ==\"UV\"][error_df.columns[1:]].groupby('GAP_SIZE').mean()"
   ]
  },
  {
   "cell_type": "code",
   "execution_count": null,
   "id": "d8b1592c",
   "metadata": {},
   "outputs": [],
   "source": [
    "error_df[error_df.NAME ==\"calday\"][error_df.columns[1:]].groupby('GAP_SIZE').mean()"
   ]
  },
  {
   "cell_type": "code",
   "execution_count": null,
   "id": "8308f5be",
   "metadata": {},
   "outputs": [],
   "source": [
    "error_df[error_df.NAME ==\"caldaytimeday\"][error_df.columns[1:]].groupby('GAP_SIZE').mean()"
   ]
  },
  {
   "cell_type": "markdown",
   "id": "59ac8da7",
   "metadata": {},
   "source": [
    "#### error matrix phase"
   ]
  },
  {
   "cell_type": "code",
   "execution_count": null,
   "id": "c16d03d3",
   "metadata": {},
   "outputs": [],
   "source": [
    "percent_list=[5,10,15,20]\n",
    "gap_amount_list=[24,48,72,96]\n",
    "selector_list=[1,2,3,4]\n",
    "#gap_amount_list=[150]\n",
    "N = 25\n",
    "test_runs=5\n",
    "\n",
    "\n",
    "columns_df=[\"NAME\",'RUN',\"MEMBER\",\"PERC\",\"GAP_SIZE\",\"CORR\",\"RMSE\",\"STDR\"]\n",
    "\n",
    "df = pd.DataFrame(columns=columns_df)"
   ]
  },
  {
   "cell_type": "code",
   "execution_count": null,
   "id": "6a1e53e6",
   "metadata": {},
   "outputs": [],
   "source": [
    "filled_data,error_df=one_cov_g2s(original=meteo_orig,var1=varname,cov=era5,var2=\"sp\",cov_name=\"era5\",obs_in_day=24,N=N,percent_list=percent_list,gap_amount_list=gap_amount_list,selector_list=selector_list,test_runs=test_runs,df=df,csv_folder=output_folder,name=\"meteo_era5_\")"
   ]
  },
  {
   "cell_type": "code",
   "execution_count": null,
   "id": "46ff6493",
   "metadata": {},
   "outputs": [],
   "source": [
    "error_df=pd.read_csv(output_folder+\"meteo_era5_\"+varname+\".csv\")\n"
   ]
  },
  {
   "cell_type": "code",
   "execution_count": null,
   "id": "f8e41d0f",
   "metadata": {},
   "outputs": [],
   "source": [
    "error_df[error_df.columns[1:]].groupby('PERC').mean()"
   ]
  },
  {
   "cell_type": "code",
   "execution_count": null,
   "id": "c633cc67",
   "metadata": {},
   "outputs": [],
   "source": [
    "error_df[error_df.columns[1:]].groupby('GAP_SIZE').mean()"
   ]
  },
  {
   "cell_type": "code",
   "execution_count": null,
   "id": "5da99005",
   "metadata": {},
   "outputs": [],
   "source": [
    "perc=error_df[\"PERC\"].values\n",
    "gap_size=error_df[\"GAP_SIZE\"].values\n",
    "rmse=error_df[\"RMSE\"].values"
   ]
  },
  {
   "cell_type": "code",
   "execution_count": null,
   "id": "bb3ddcfa",
   "metadata": {},
   "outputs": [],
   "source": [
    "import seaborn as sns\n",
    "sns.relplot(data=error_df, x='PERC', y='GAP_SIZE', hue='RMSE')\n",
    "plt.show()"
   ]
  },
  {
   "cell_type": "code",
   "execution_count": null,
   "id": "8562ca52",
   "metadata": {},
   "outputs": [],
   "source": [
    "import seaborn as sns\n",
    "sns.relplot(data=error_df, x='PERC', y='GAP_SIZE', hue='CORR')\n",
    "plt.show()"
   ]
  },
  {
   "cell_type": "code",
   "execution_count": null,
   "id": "af9d1625",
   "metadata": {},
   "outputs": [],
   "source": [
    "# importing mplot3d toolkits, numpy and matplotlib\n",
    "from mpl_toolkits import mplot3d\n",
    "import numpy as np\n",
    "import matplotlib.pyplot as plt\n",
    " \n",
    "fig = plt.figure()\n",
    " \n",
    "# syntax for 3-D projection\n",
    "ax = plt.axes(projection ='3d')\n",
    " \n",
    "# defining all 3 axis\n",
    "z = rmse\n",
    "x = gap_size\n",
    "y = perc\n",
    " \n",
    "# plotting\n",
    "ax.plot3D(x, y, z, '.b')\n",
    "ax.set_title('3D line plot geeks for geeks')\n",
    "plt.show()"
   ]
  },
  {
   "cell_type": "markdown",
   "id": "18e599b8",
   "metadata": {},
   "source": [
    "#### reconstruction phase"
   ]
  },
  {
   "cell_type": "code",
   "execution_count": null,
   "id": "9fc8d35f",
   "metadata": {},
   "outputs": [],
   "source": [
    "N = 50"
   ]
  },
  {
   "cell_type": "code",
   "execution_count": null,
   "id": "69d893f3",
   "metadata": {},
   "outputs": [],
   "source": [
    "#gap-filling with one covariate\n",
    "covar2 = era5[\"sp\"].copy()\n",
    "#name_addedinfo=cov_name\n",
    "#covar2.loc[dict(time = covar2.time[gap_indices])] = np.nan\n",
    "gapped_data=meteo_orig[varname].copy()\n",
    "\n",
    "ti = np.stack([gapped_data.data,\n",
    "            covar2],axis = 1)\n",
    "di = np.stack([gapped_data.data,\n",
    "            covar2],axis = 1)\n",
    "dt = [0,0,] \n",
    "#ki = np.ones([L,5])\n",
    "#ki[:,:4] = 0.3 #Assign half weight to categorical variable \n",
    "\n",
    "\n",
    "stacked = ensemble_QS(N = N,\n",
    "                      ti=ti, \n",
    "                      di=di,\n",
    "                      dt=dt, #Zero for continuous variables\n",
    "                      k=1.2,\n",
    "                      n=50,\n",
    "                      j=0.5,\n",
    "                      ki=None)\n",
    "simulation = xr.DataArray(data =stacked[:,:,0],\n",
    "                            coords = {'realizations':np.arange(1,stacked.shape[0]+1),'time':gapped_data.time})"
   ]
  },
  {
   "cell_type": "code",
   "execution_count": null,
   "id": "cb250467",
   "metadata": {},
   "outputs": [],
   "source": [
    "year = 2021\n",
    "start_month =3\n",
    "end_month = 5\n",
    "\n",
    "plot_MPS_ensembles(original = gapped_data,\n",
    "                   simulation = simulation, \n",
    "                   year = year,\n",
    "                   start_month = start_month,\n",
    "                   end_month = end_month,plot_folder=output_folder,\n",
    "                  alpha = 0.1,\n",
    "                  title = \"meteo_\"+varname+\"_era5_simulation\")"
   ]
  },
  {
   "cell_type": "code",
   "execution_count": null,
   "id": "5e6a8282",
   "metadata": {},
   "outputs": [],
   "source": [
    "save_name=\"meteo_\"+varname+\"_era5_50member_reconstruction.nc\"\n",
    "\n",
    "simulation.to_netcdf(output_folder+save_name)\n",
    "\n",
    "xr.open_dataset(output_folder+save_name)"
   ]
  },
  {
   "cell_type": "markdown",
   "id": "02bfdaa9",
   "metadata": {},
   "source": [
    "## Fill Incoming Solar Radiation Data"
   ]
  },
  {
   "cell_type": "markdown",
   "id": "6640c203",
   "metadata": {},
   "source": [
    "### understand the average gap size in data"
   ]
  },
  {
   "cell_type": "code",
   "execution_count": null,
   "id": "36940589",
   "metadata": {},
   "outputs": [],
   "source": [
    "varname=\"Slrw\"\n"
   ]
  },
  {
   "cell_type": "code",
   "execution_count": null,
   "id": "f9c50855",
   "metadata": {
    "scrolled": true
   },
   "outputs": [],
   "source": [
    "gap_info(var=meteo_orig[varname],varname=\"meteo_orig_slrw\",plot_folder=output_folder)"
   ]
  },
  {
   "cell_type": "markdown",
   "id": "715edbba",
   "metadata": {},
   "source": [
    "### Run gapfilling"
   ]
  },
  {
   "cell_type": "code",
   "execution_count": null,
   "id": "8e859371",
   "metadata": {},
   "outputs": [],
   "source": [
    "percent_list=[5]\n",
    "gap_amount_list=[24,48,72]\n",
    "selector_list=[1,2,3]\n",
    "#gap_amount_list=[150]\n",
    "N = 25\n",
    "test_runs=10\n",
    "\n",
    "\n",
    "columns_df=[\"NAME\",'RUN',\"MEMBER\",\"PERC\",\"GAP_SIZE\",\"CORR\",\"RMSE\",\"STDR\"]\n",
    "\n",
    "df = pd.DataFrame(columns=columns_df)"
   ]
  },
  {
   "cell_type": "code",
   "execution_count": null,
   "id": "a806433a",
   "metadata": {},
   "outputs": [],
   "source": [
    "print(datetime.datetime.now())"
   ]
  },
  {
   "cell_type": "code",
   "execution_count": null,
   "id": "bd72b11a",
   "metadata": {},
   "outputs": [],
   "source": [
    "filled_data,error_df=univ_g2s(original=meteo_orig,var=varname,obs_in_day=24,N=N,percent_list=percent_list,gap_amount_list=gap_amount_list,selector_list=selector_list,test_runs=test_runs,df=df,csv_folder=output_folder,name=\"meteo_eval_\")"
   ]
  },
  {
   "cell_type": "code",
   "execution_count": null,
   "id": "f690f463",
   "metadata": {},
   "outputs": [],
   "source": [
    "filled_data,error_df=day_of_year_g2s(original=meteo_orig,var=varname,obs_in_day=24,N=N,percent_list=percent_list,gap_amount_list=gap_amount_list,selector_list=selector_list,test_runs=test_runs,df=df,csv_folder=output_folder,name=\"meteo_eval_\")"
   ]
  },
  {
   "cell_type": "code",
   "execution_count": null,
   "id": "2c9b1214",
   "metadata": {},
   "outputs": [],
   "source": [
    "filled_data,error_df=time_of_day_of_year_g2s(original=meteo_orig,var=varname,obs_in_day=24,N=N,percent_list=percent_list,gap_amount_list=gap_amount_list,selector_list=selector_list,test_runs=test_runs,df=df,csv_folder=output_folder,name=\"meteo_eval_\")"
   ]
  },
  {
   "cell_type": "code",
   "execution_count": null,
   "id": "d67445f2",
   "metadata": {},
   "outputs": [],
   "source": [
    "filled_data,error_df=one_cov_g2s(original=meteo_orig,var1=varname,cov=era5,var2=\"ssrd\",cov_name=\"era5\",obs_in_day=24,N=N,percent_list=percent_list,gap_amount_list=gap_amount_list,selector_list=selector_list,test_runs=test_runs,df=df,csv_folder=output_folder,name=\"meteo_eval_\")"
   ]
  },
  {
   "cell_type": "code",
   "execution_count": null,
   "id": "362eb45f",
   "metadata": {},
   "outputs": [],
   "source": [
    "filled_data,error_df=one_cov_g2s(original=meteo_orig,var1=varname,cov=era5_land,var2=\"ssrd\",cov_name=\"era5l\",obs_in_day=24,N=N,percent_list=percent_list,gap_amount_list=gap_amount_list,selector_list=selector_list,test_runs=test_runs,df=df,csv_folder=output_folder,name=\"meteo_eval_\")"
   ]
  },
  {
   "cell_type": "code",
   "execution_count": null,
   "id": "795d0a31",
   "metadata": {
    "scrolled": true
   },
   "outputs": [],
   "source": [
    "error_df"
   ]
  },
  {
   "cell_type": "code",
   "execution_count": null,
   "id": "b7c94930",
   "metadata": {},
   "outputs": [],
   "source": [
    "error_df=pd.read_csv(output_folder+\"meteo_eval_\"+varname+\".csv\")\n"
   ]
  },
  {
   "cell_type": "code",
   "execution_count": null,
   "id": "db7534fa",
   "metadata": {},
   "outputs": [],
   "source": [
    "error_df[error_df.NAME ==\"era5l\"][error_df.columns[1:]].groupby('GAP_SIZE').mean()"
   ]
  },
  {
   "cell_type": "code",
   "execution_count": null,
   "id": "c8baf776",
   "metadata": {},
   "outputs": [],
   "source": [
    "error_df[error_df.NAME ==\"era5\"][error_df.columns[1:]].groupby('GAP_SIZE').mean()"
   ]
  },
  {
   "cell_type": "code",
   "execution_count": null,
   "id": "c744b017",
   "metadata": {},
   "outputs": [],
   "source": [
    "error_df[error_df.NAME ==\"UV\"][error_df.columns[1:]].groupby('GAP_SIZE').mean()"
   ]
  },
  {
   "cell_type": "code",
   "execution_count": null,
   "id": "e7c54d9f",
   "metadata": {},
   "outputs": [],
   "source": [
    "error_df[error_df.NAME ==\"calday\"][error_df.columns[1:]].groupby('GAP_SIZE').mean()"
   ]
  },
  {
   "cell_type": "code",
   "execution_count": null,
   "id": "c0a8ae83",
   "metadata": {},
   "outputs": [],
   "source": [
    "error_df[error_df.NAME ==\"caldaytimeday\"][error_df.columns[1:]].groupby('GAP_SIZE').mean()"
   ]
  },
  {
   "cell_type": "markdown",
   "id": "d27f4094",
   "metadata": {},
   "source": [
    "#### error matrix phase"
   ]
  },
  {
   "cell_type": "code",
   "execution_count": null,
   "id": "fc8de722",
   "metadata": {},
   "outputs": [],
   "source": [
    "percent_list=[5,10,15,20]\n",
    "gap_amount_list=[24,48,72,96]\n",
    "selector_list=[1,2,3,4]\n",
    "#gap_amount_list=[150]\n",
    "N = 25\n",
    "test_runs=5\n",
    "\n",
    "\n",
    "columns_df=[\"NAME\",'RUN',\"MEMBER\",\"PERC\",\"GAP_SIZE\",\"CORR\",\"RMSE\",\"STDR\"]\n",
    "\n",
    "df = pd.DataFrame(columns=columns_df)"
   ]
  },
  {
   "cell_type": "code",
   "execution_count": null,
   "id": "a83fc388",
   "metadata": {},
   "outputs": [],
   "source": [
    "filled_data,error_df=one_cov_g2s(original=meteo_orig,var1=varname,cov=era5,var2=\"ssrd\",cov_name=\"era5\",obs_in_day=24,N=N,percent_list=percent_list,gap_amount_list=gap_amount_list,selector_list=selector_list,test_runs=test_runs,df=df,csv_folder=output_folder,name=\"meteo_era5_\")"
   ]
  },
  {
   "cell_type": "code",
   "execution_count": null,
   "id": "3e16b52b",
   "metadata": {},
   "outputs": [],
   "source": [
    "error_df=pd.read_csv(output_folder+\"meteo_era5_\"+varname+\".csv\")\n"
   ]
  },
  {
   "cell_type": "code",
   "execution_count": null,
   "id": "ffd36fc4",
   "metadata": {},
   "outputs": [],
   "source": [
    "error_df[error_df.columns[1:]].groupby('PERC').mean()"
   ]
  },
  {
   "cell_type": "code",
   "execution_count": null,
   "id": "496b4f76",
   "metadata": {},
   "outputs": [],
   "source": [
    "error_df[error_df.columns[1:]].groupby('GAP_SIZE').mean()"
   ]
  },
  {
   "cell_type": "code",
   "execution_count": null,
   "id": "ac408e54",
   "metadata": {},
   "outputs": [],
   "source": [
    "perc=error_df[\"PERC\"].values\n",
    "gap_size=error_df[\"GAP_SIZE\"].values\n",
    "rmse=error_df[\"RMSE\"].values"
   ]
  },
  {
   "cell_type": "code",
   "execution_count": null,
   "id": "9b03e484",
   "metadata": {},
   "outputs": [],
   "source": [
    "import seaborn as sns\n",
    "sns.relplot(data=error_df, x='PERC', y='GAP_SIZE', hue='RMSE')\n",
    "plt.show()"
   ]
  },
  {
   "cell_type": "code",
   "execution_count": null,
   "id": "6d6ff028",
   "metadata": {},
   "outputs": [],
   "source": [
    "import seaborn as sns\n",
    "sns.relplot(data=error_df, x='PERC', y='GAP_SIZE', hue='CORR')\n",
    "plt.show()"
   ]
  },
  {
   "cell_type": "code",
   "execution_count": null,
   "id": "921da2bb",
   "metadata": {},
   "outputs": [],
   "source": [
    "# importing mplot3d toolkits, numpy and matplotlib\n",
    "from mpl_toolkits import mplot3d\n",
    "import numpy as np\n",
    "import matplotlib.pyplot as plt\n",
    " \n",
    "fig = plt.figure()\n",
    " \n",
    "# syntax for 3-D projection\n",
    "ax = plt.axes(projection ='3d')\n",
    " \n",
    "# defining all 3 axis\n",
    "z = rmse\n",
    "x = gap_size\n",
    "y = perc\n",
    " \n",
    "# plotting\n",
    "ax.plot3D(x, y, z, '.b')\n",
    "ax.set_title('3D line plot geeks for geeks')\n",
    "plt.show()"
   ]
  },
  {
   "cell_type": "markdown",
   "id": "50938758",
   "metadata": {},
   "source": [
    "#### reconstruction phase"
   ]
  },
  {
   "cell_type": "code",
   "execution_count": null,
   "id": "f3f94526",
   "metadata": {},
   "outputs": [],
   "source": [
    "N = 50"
   ]
  },
  {
   "cell_type": "code",
   "execution_count": null,
   "id": "cab6d14f",
   "metadata": {},
   "outputs": [],
   "source": [
    "#gap-filling with one covariate\n",
    "covar2 = era5[\"sp\"].copy()\n",
    "#name_addedinfo=cov_name\n",
    "#covar2.loc[dict(time = covar2.time[gap_indices])] = np.nan\n",
    "gapped_data=meteo_orig[varname].copy()\n",
    "\n",
    "ti = np.stack([gapped_data.data,\n",
    "            covar2],axis = 1)\n",
    "di = np.stack([gapped_data.data,\n",
    "            covar2],axis = 1)\n",
    "dt = [0,0,] \n",
    "#ki = np.ones([L,5])\n",
    "#ki[:,:4] = 0.3 #Assign half weight to categorical variable \n",
    "\n",
    "\n",
    "stacked = ensemble_QS(N = N,\n",
    "                      ti=ti, \n",
    "                      di=di,\n",
    "                      dt=dt, #Zero for continuous variables\n",
    "                      k=1.2,\n",
    "                      n=50,\n",
    "                      j=0.5,\n",
    "                      ki=None)\n",
    "simulation = xr.DataArray(data =stacked[:,:,0],\n",
    "                            coords = {'realizations':np.arange(1,stacked.shape[0]+1),'time':gapped_data.time})"
   ]
  },
  {
   "cell_type": "code",
   "execution_count": null,
   "id": "d8112d78",
   "metadata": {},
   "outputs": [],
   "source": [
    "year = 2021\n",
    "start_month =3\n",
    "end_month = 5\n",
    "\n",
    "plot_MPS_ensembles(original = gapped_data,\n",
    "                   simulation = simulation, \n",
    "                   year = year,\n",
    "                   start_month = start_month,\n",
    "                   end_month = end_month,plot_folder=output_folder,\n",
    "                  alpha = 0.1,\n",
    "                  title = \"meteo_\"+varname+\"_era5_simulation\")"
   ]
  },
  {
   "cell_type": "code",
   "execution_count": null,
   "id": "37357e81",
   "metadata": {},
   "outputs": [],
   "source": [
    "save_name=\"meteo_\"+varname+\"_era5_50member_reconstruction.nc\"\n",
    "\n",
    "simulation.to_netcdf(output_folder+save_name)\n",
    "\n",
    "xr.open_dataset(output_folder+save_name)"
   ]
  },
  {
   "cell_type": "code",
   "execution_count": null,
   "id": "c0011ea1",
   "metadata": {},
   "outputs": [],
   "source": []
  }
 ],
 "metadata": {
  "kernelspec": {
   "display_name": "Python 3 (ipykernel)",
   "language": "python",
   "name": "python3"
  },
  "language_info": {
   "codemirror_mode": {
    "name": "ipython",
    "version": 3
   },
   "file_extension": ".py",
   "mimetype": "text/x-python",
   "name": "python",
   "nbconvert_exporter": "python",
   "pygments_lexer": "ipython3",
   "version": "3.11.3"
  }
 },
 "nbformat": 4,
 "nbformat_minor": 5
}

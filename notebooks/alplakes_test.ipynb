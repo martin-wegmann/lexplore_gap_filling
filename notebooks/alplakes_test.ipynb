{
 "cells": [
  {
   "cell_type": "code",
   "execution_count": 1,
   "id": "finite-footage",
   "metadata": {},
   "outputs": [],
   "source": [
    "import numpy as np\n",
    "import xarray as xr\n",
    "import netCDF4\n",
    "import os\n",
    "import datetime\n",
    "import matplotlib.pyplot as plt \n",
    "from matplotlib import cm\n",
    "import shutil\n",
    "from datetime import datetime, timedelta\n",
    "import glob\n",
    "import datetime as dt\n",
    "from os import path\n",
    "import os\n",
    "import fsspec\n",
    "import git \n",
    "import json\n",
    "import sys\n",
    "import yaml\n",
    "import requests\n",
    "from datetime import timezone"
   ]
  },
  {
   "cell_type": "markdown",
   "id": "iraqi-kentucky",
   "metadata": {},
   "source": [
    "Date: January 2024\n",
    "\n",
    "Author: Martin Wegmann\n",
    "\n",
    "Contact: martinwegmann@pm.me\n"
   ]
  },
  {
   "cell_type": "code",
   "execution_count": 2,
   "id": "frozen-intro",
   "metadata": {},
   "outputs": [],
   "source": [
    "startyear=2020\n",
    "today= datetime.today()\n",
    "endyear=2023"
   ]
  },
  {
   "cell_type": "markdown",
   "id": "excess-alloy",
   "metadata": {},
   "source": [
    "## get alplakes "
   ]
  },
  {
   "cell_type": "code",
   "execution_count": 3,
   "id": "found-prize",
   "metadata": {},
   "outputs": [],
   "source": [
    "###### alplakes"
   ]
  },
  {
   "cell_type": "code",
   "execution_count": 4,
   "id": "funny-angola",
   "metadata": {},
   "outputs": [],
   "source": [
    "startyear=startyear\n",
    "endyear=endyear\n",
    "#output_folder=output_folder\n",
    "lon=\"6.67\"\n",
    "lat=\"46.5\"\n",
    "lake=\"geneva\"\n",
    "csv_save=True\n",
    "nc_save=True"
   ]
  },
  {
   "cell_type": "markdown",
   "id": "neutral-coordination",
   "metadata": {},
   "source": [
    "* I cut the requests into monthly chunks in order to not overwhelm the system. This is still a relict of the meteolakes times and could possibly be abolished in the future. But so far, it does not hurt. "
   ]
  },
  {
   "cell_type": "code",
   "execution_count": 5,
   "id": "synthetic-species",
   "metadata": {},
   "outputs": [
    {
     "name": "stdout",
     "output_type": "stream",
     "text": [
      "Downloading year 2020\n",
      "https://alplakes-api.eawag.ch/simulations/depthtime/delft3d-flow/geneva/202001010300/202002010000/46.5/6.67\n",
      "<Response [200]>\n",
      "https://alplakes-api.eawag.ch/simulations/depthtime/delft3d-flow/geneva/202002010300/202003010000/46.5/6.67\n",
      "<Response [200]>\n",
      "https://alplakes-api.eawag.ch/simulations/depthtime/delft3d-flow/geneva/202003010300/202004010000/46.5/6.67\n",
      "<Response [200]>\n",
      "https://alplakes-api.eawag.ch/simulations/depthtime/delft3d-flow/geneva/202004010300/202005010000/46.5/6.67\n",
      "<Response [200]>\n",
      "https://alplakes-api.eawag.ch/simulations/depthtime/delft3d-flow/geneva/202005010300/202006010000/46.5/6.67\n",
      "<Response [200]>\n",
      "https://alplakes-api.eawag.ch/simulations/depthtime/delft3d-flow/geneva/202006010300/202007010000/46.5/6.67\n",
      "<Response [200]>\n",
      "https://alplakes-api.eawag.ch/simulations/depthtime/delft3d-flow/geneva/202007010300/202008010000/46.5/6.67\n",
      "<Response [502]>\n",
      "https://alplakes-api.eawag.ch/simulations/depthtime/delft3d-flow/geneva/202008010300/202009010000/46.5/6.67\n",
      "<Response [200]>\n",
      "https://alplakes-api.eawag.ch/simulations/depthtime/delft3d-flow/geneva/202009010300/202010010000/46.5/6.67\n",
      "<Response [502]>\n",
      "https://alplakes-api.eawag.ch/simulations/depthtime/delft3d-flow/geneva/202010010300/202011010000/46.5/6.67\n",
      "<Response [200]>\n",
      "https://alplakes-api.eawag.ch/simulations/depthtime/delft3d-flow/geneva/202011010300/202012010000/46.5/6.67\n",
      "<Response [200]>\n",
      "https://alplakes-api.eawag.ch/simulations/depthtime/delft3d-flow/geneva/202012010300/202101010000/46.5/6.67\n",
      "<Response [200]>\n",
      "Downloading year 2021\n",
      "https://alplakes-api.eawag.ch/simulations/depthtime/delft3d-flow/geneva/202101010300/202102010000/46.5/6.67\n",
      "<Response [200]>\n",
      "https://alplakes-api.eawag.ch/simulations/depthtime/delft3d-flow/geneva/202102010300/202103010000/46.5/6.67\n",
      "<Response [502]>\n",
      "https://alplakes-api.eawag.ch/simulations/depthtime/delft3d-flow/geneva/202103010300/202104010000/46.5/6.67\n",
      "<Response [200]>\n",
      "https://alplakes-api.eawag.ch/simulations/depthtime/delft3d-flow/geneva/202104010300/202105010000/46.5/6.67\n",
      "<Response [200]>\n",
      "https://alplakes-api.eawag.ch/simulations/depthtime/delft3d-flow/geneva/202105010300/202106010000/46.5/6.67\n",
      "<Response [200]>\n",
      "https://alplakes-api.eawag.ch/simulations/depthtime/delft3d-flow/geneva/202106010300/202107010000/46.5/6.67\n",
      "<Response [200]>\n",
      "https://alplakes-api.eawag.ch/simulations/depthtime/delft3d-flow/geneva/202107010300/202108010000/46.5/6.67\n",
      "<Response [502]>\n",
      "https://alplakes-api.eawag.ch/simulations/depthtime/delft3d-flow/geneva/202108010300/202109010000/46.5/6.67\n",
      "<Response [200]>\n",
      "https://alplakes-api.eawag.ch/simulations/depthtime/delft3d-flow/geneva/202109010300/202110010000/46.5/6.67\n",
      "<Response [200]>\n",
      "https://alplakes-api.eawag.ch/simulations/depthtime/delft3d-flow/geneva/202110010300/202111010000/46.5/6.67\n",
      "<Response [502]>\n",
      "https://alplakes-api.eawag.ch/simulations/depthtime/delft3d-flow/geneva/202111010300/202112010000/46.5/6.67\n",
      "<Response [200]>\n",
      "https://alplakes-api.eawag.ch/simulations/depthtime/delft3d-flow/geneva/202112010300/202201010000/46.5/6.67\n",
      "<Response [200]>\n",
      "Downloading year 2022\n",
      "https://alplakes-api.eawag.ch/simulations/depthtime/delft3d-flow/geneva/202201010300/202202010000/46.5/6.67\n",
      "<Response [200]>\n",
      "https://alplakes-api.eawag.ch/simulations/depthtime/delft3d-flow/geneva/202202010300/202203010000/46.5/6.67\n",
      "<Response [200]>\n",
      "https://alplakes-api.eawag.ch/simulations/depthtime/delft3d-flow/geneva/202203010300/202204010000/46.5/6.67\n",
      "<Response [200]>\n",
      "https://alplakes-api.eawag.ch/simulations/depthtime/delft3d-flow/geneva/202204010300/202205010000/46.5/6.67\n",
      "<Response [502]>\n",
      "https://alplakes-api.eawag.ch/simulations/depthtime/delft3d-flow/geneva/202205010300/202206010000/46.5/6.67\n",
      "<Response [200]>\n",
      "https://alplakes-api.eawag.ch/simulations/depthtime/delft3d-flow/geneva/202206010300/202207010000/46.5/6.67\n",
      "<Response [200]>\n",
      "https://alplakes-api.eawag.ch/simulations/depthtime/delft3d-flow/geneva/202207010300/202208010000/46.5/6.67\n",
      "<Response [502]>\n",
      "https://alplakes-api.eawag.ch/simulations/depthtime/delft3d-flow/geneva/202208010300/202209010000/46.5/6.67\n",
      "<Response [200]>\n",
      "https://alplakes-api.eawag.ch/simulations/depthtime/delft3d-flow/geneva/202209010300/202210010000/46.5/6.67\n",
      "<Response [200]>\n",
      "https://alplakes-api.eawag.ch/simulations/depthtime/delft3d-flow/geneva/202210010300/202211010000/46.5/6.67\n",
      "<Response [200]>\n",
      "https://alplakes-api.eawag.ch/simulations/depthtime/delft3d-flow/geneva/202211010300/202212010000/46.5/6.67\n",
      "<Response [200]>\n",
      "https://alplakes-api.eawag.ch/simulations/depthtime/delft3d-flow/geneva/202212010300/202301010000/46.5/6.67\n",
      "<Response [200]>\n",
      "Downloading year 2023\n",
      "https://alplakes-api.eawag.ch/simulations/depthtime/delft3d-flow/geneva/202301010300/202302010000/46.5/6.67\n",
      "<Response [200]>\n",
      "https://alplakes-api.eawag.ch/simulations/depthtime/delft3d-flow/geneva/202302010300/202303010000/46.5/6.67\n",
      "<Response [200]>\n",
      "https://alplakes-api.eawag.ch/simulations/depthtime/delft3d-flow/geneva/202303010300/202304010000/46.5/6.67\n",
      "<Response [200]>\n",
      "https://alplakes-api.eawag.ch/simulations/depthtime/delft3d-flow/geneva/202304010300/202305010000/46.5/6.67\n",
      "<Response [200]>\n",
      "https://alplakes-api.eawag.ch/simulations/depthtime/delft3d-flow/geneva/202305010300/202306010000/46.5/6.67\n",
      "<Response [200]>\n",
      "https://alplakes-api.eawag.ch/simulations/depthtime/delft3d-flow/geneva/202306010300/202307010000/46.5/6.67\n",
      "<Response [200]>\n",
      "https://alplakes-api.eawag.ch/simulations/depthtime/delft3d-flow/geneva/202307010300/202308010000/46.5/6.67\n",
      "<Response [200]>\n",
      "https://alplakes-api.eawag.ch/simulations/depthtime/delft3d-flow/geneva/202308010300/202309010000/46.5/6.67\n",
      "<Response [200]>\n",
      "https://alplakes-api.eawag.ch/simulations/depthtime/delft3d-flow/geneva/202309010300/202310010000/46.5/6.67\n",
      "<Response [200]>\n",
      "https://alplakes-api.eawag.ch/simulations/depthtime/delft3d-flow/geneva/202310010300/202311010000/46.5/6.67\n",
      "<Response [200]>\n",
      "https://alplakes-api.eawag.ch/simulations/depthtime/delft3d-flow/geneva/202311010300/202312010000/46.5/6.67\n",
      "<Response [200]>\n",
      "https://alplakes-api.eawag.ch/simulations/depthtime/delft3d-flow/geneva/202312010300/202401010000/46.5/6.67\n",
      "<Response [200]>\n"
     ]
    }
   ],
   "source": [
    "for year in range(startyear,endyear+1):\n",
    "    print(\"Downloading year \"+str(year))\n",
    "    range_months=range(1,12+1)\n",
    "    if year == today.year:\n",
    "        range_months=range(1,today.month-1)\n",
    "    for month in range_months:\n",
    "        \n",
    "        if month==12:\n",
    "            start_date=[year,month,1,3]\n",
    "            end_date=[year+1,1,1,0]\n",
    "        else:\n",
    "            start_date=[year,month,1,3]\n",
    "            end_date=[year,month+1,1,0]\n",
    "        start_time=dt.datetime(start_date[0], start_date[1], start_date[2],start_date[3])\n",
    "        timestamp_start=start_time.strftime('%Y%m%d%H%M')\n",
    "        end_time=dt.datetime(end_date[0], end_date[1], end_date[2],end_date[3])\n",
    "        timestamp_end=end_time.strftime('%Y%m%d%H%M')\n",
    "\n",
    "        #print(timestamp_start)\n",
    "        \n",
    "        url_alplakes=\"https://alplakes-api.eawag.ch/simulations/depthtime/delft3d-flow/\"+lake+\"/\"+str(timestamp_start)+\"/\"+str(timestamp_end)+\"/\"+lat+\"/\"+lon\n",
    "        print(url_alplakes)\n",
    "        with requests.Session() as s:\n",
    "            download = s.get(url_alplakes)\n",
    "        print(download)"
   ]
  },
  {
   "cell_type": "markdown",
   "id": "ideal-russian",
   "metadata": {},
   "source": [
    "* The bad responses (502) are seemingly random and their appearances change with each execution of the script. Even though in this execution there is no 502 response for 2023, this is just random and can not be considered a rule. "
   ]
  },
  {
   "cell_type": "code",
   "execution_count": null,
   "id": "split-township",
   "metadata": {},
   "outputs": [],
   "source": []
  }
 ],
 "metadata": {
  "kernelspec": {
   "display_name": "Python (temprec)",
   "language": "python",
   "name": "temprec"
  },
  "language_info": {
   "codemirror_mode": {
    "name": "ipython",
    "version": 3
   },
   "file_extension": ".py",
   "mimetype": "text/x-python",
   "name": "python",
   "nbconvert_exporter": "python",
   "pygments_lexer": "ipython3",
   "version": "3.7.9"
  }
 },
 "nbformat": 4,
 "nbformat_minor": 5
}
